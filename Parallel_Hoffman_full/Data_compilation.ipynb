{
 "cells": [
  {
   "cell_type": "code",
   "execution_count": 31,
   "id": "008089ba",
   "metadata": {},
   "outputs": [],
   "source": [
    "#this is a script for compiling data that has been fully parallelized on the cluster. \n",
    "\n",
    "import pandas as pd\n",
    "import matplotlib.pyplot as plt\n",
    "import os\n",
    "import string\n",
    "import fnmatch\n",
    "import os\n",
    "import matplotlib.pyplot as plt\n",
    "import numpy as np\n",
    "import scipy.stats as st\n",
    "import statistics\n",
    "import paramiko\n",
    "from paramiko import SSHClient\n",
    "from scp import SCPClient\n"
   ]
  },
  {
   "cell_type": "code",
   "execution_count": 54,
   "id": "57a16a4d",
   "metadata": {},
   "outputs": [],
   "source": [
    "#Local variables: figure out how to automate.\n",
    "JobIDint = 5951385\n",
    "JOBID = str(5951385)\n",
    "tree_sizes = list(range(3,51))\n",
    "#tree_sizes = [10,25,50,75,100,350,500,700,900,1000,2000,3000,4000,5000,6000,7000,8000,9000,10000] # define the tree sizes that we have data for (aka: parameter combinations)\n",
    "metric = 'mpd'\n",
    "num_files = 1 #predetermine the number of files/runs. This is equivalent to the array_ID from the r script. \n",
    "transfer = False;"
   ]
  },
  {
   "cell_type": "code",
   "execution_count": 55,
   "id": "28f34e2f",
   "metadata": {},
   "outputs": [
    {
     "name": "stdout",
     "output_type": "stream",
     "text": [
      "transfer already complete\n"
     ]
    }
   ],
   "source": [
    "#establish connection with remote server and transfer files from filenam\n",
    "#DO NOT RUN THIS UNLESS THE FILES HAVE NOT BEEN TRANSFERRED\n",
    "\n",
    "if(transfer):\n",
    "    hoffman2_path_output = '/u/home/m/mchari/bird/Parallel_Hoffman_full/' + JOBID + '_output_files'\n",
    "    ssh_ob = SSHClient()\n",
    "    ssh_ob.load_system_host_keys()\n",
    "    ssh_ob.connect('hoffman2.idre.ucla.edu', username = 'mchari', password= 'Xf4p4D24')\n",
    "    scp = SCPClient(ssh_ob.get_transport())\n",
    "    scp.get('/u/home/m/mchari/bird/Parallel_Hoffman_full/5951385_output_files', recursive = True)\n",
    "    transfer = False;\n",
    "else:\n",
    "    print(\"transfer already complete\")\n",
    "    \n",
    "#set up local direrctory and establish folder as target\n",
    "cwd = os.getcwd()\n",
    "target_directory = os.getcwd() + \"/\"+ JOBID +\"_output_files/\""
   ]
  },
  {
   "cell_type": "code",
   "execution_count": 56,
   "id": "00af4fc9",
   "metadata": {},
   "outputs": [
    {
     "name": "stdout",
     "output_type": "stream",
     "text": [
      "   Unnamed: 0     plot  ntaxa       mpd  mpd.rnd   mpd.sd     nri  \\\n",
      "0           1  species     10  334.6871  231.073  12.6345 -8.2009   \n",
      "\n",
      "   mpd.ranklow  mpd.rankhi      mntd  mntd.rnd  mntd.sd     nti  mntd.ranklo  \\\n",
      "0            0           2  239.1375  204.6416  11.6184 -2.9691            0   \n",
      "\n",
      "   mntd.rankhi  runs  \n",
      "0            2     2  \n"
     ]
    },
    {
     "data": {
      "text/plain": [
       "231.073"
      ]
     },
     "execution_count": 56,
     "metadata": {},
     "output_type": "execute_result"
    }
   ],
   "source": [
    "\n",
    "#look at one mpd randomization from one trial to see sample data structure. \n",
    "target_file_get = os.getcwd() + \"/\"+ \"5055818\" +\"_output_files/\"+  \"10_4out.csv\"\n",
    "df = pd.read_csv(target_file_get)\n",
    "print(df)\n",
    "df.iloc[0]['mpd.rnd']\n"
   ]
  },
  {
   "cell_type": "code",
   "execution_count": 57,
   "id": "f9e06cfc",
   "metadata": {},
   "outputs": [],
   "source": [
    "# Create your dictionary class\n",
    "\n",
    "class my_dictionary(dict):\n",
    " \n",
    "  # __init__ function\n",
    "  def __init__(self):\n",
    "    self = dict()\n",
    " \n",
    "  # Function to add key:value\n",
    "  def add(self, key, value):\n",
    "    self[key] = value\n"
   ]
  },
  {
   "cell_type": "code",
   "execution_count": 58,
   "id": "70fda93a",
   "metadata": {},
   "outputs": [],
   "source": [
    "\n",
    "#right now the mean part of this function is redundant but I'm keeping it in just in case. \n",
    "#avg_mpd_rand = []\n",
    "\n",
    "#choice of 2 statistics: mpd, mntd\n",
    "def div_stats(tree_sizes, JobIDint, target_directory, target_statistic):\n",
    "    dict_mpd = my_dictionary() #initialize new dictionary \n",
    "    \n",
    "    if target_statistic == \"mpd\":\n",
    "        target_val = 'mpd.rnd'\n",
    "    else :\n",
    "        target_val = 'mntd.rnd'\n",
    "    for i in tree_sizes:\n",
    "        size = str(i)\n",
    "        count = 0\n",
    "        mpd_sum = 0\n",
    "        array_temp = []\n",
    "        name = target_statistic + str(i)\n",
    "        for file in os.listdir(target_directory):\n",
    "            if file.startswith(size + \"_\"):\n",
    "                direct = target_directory + file \n",
    "                temp_df = pd.read_csv(direct)\n",
    "                mpd_temp = temp_df.iloc[0][target_val]\n",
    "                mpd_sum = mpd_sum + temp_df.iloc[0][target_val]\n",
    "                count  = count + 1\n",
    "                array_temp.append(mpd_temp)\n",
    "        #average_mpd_rnd.append(mpd_sum/count)\n",
    "        dict_mpd.add(name, array_temp)\n",
    "    \n",
    "    return dict_mpd\n",
    "    \n",
    "        #average_mpd_rnd.append(mpd.rand)\n",
    "\n",
    "\n"
   ]
  },
  {
   "cell_type": "code",
   "execution_count": 59,
   "id": "6f85e193",
   "metadata": {},
   "outputs": [],
   "source": [
    "#TODO: write this to a csv somehow so I can delete that massive file. \n",
    "\n",
    "new_mpd_smallvals = div_stats(tree_sizes, JobIDint, target_directory, 'mpd')\n",
    "new_mntd_smallvals = div_stats(tree_sizes, JobIDint, target_directory, 'mntd')\n",
    "\n"
   ]
  },
  {
   "cell_type": "code",
   "execution_count": 61,
   "id": "6b37335e",
   "metadata": {},
   "outputs": [],
   "source": [
    "#\n",
    "new_mpd = new_mpd_smallvals\n",
    "new_mntd = new_mntd_smallvals"
   ]
  },
  {
   "cell_type": "code",
   "execution_count": 32,
   "id": "f47f6cc2",
   "metadata": {},
   "outputs": [
    {
     "name": "stdout",
     "output_type": "stream",
     "text": [
      "204.46372 294.23731\n"
     ]
    },
    {
     "name": "stderr",
     "output_type": "stream",
     "text": [
      "/var/folders/y2/xc9jb_w133n8tymks1sbxh7m0000gp/T/ipykernel_13120/4153670113.py:3: DeprecationWarning: Use of keyword argument `alpha` for method `interval` is deprecated. Use first positional argument or keyword argument `confidence` instead.\n",
      "  st.t.interval(alpha=0.95, df=len(data)-1, loc=np.mean(data), scale=st.sem(data))\n"
     ]
    },
    {
     "data": {
      "image/png": "[encoded data removed]",
      "text/plain": [
       "<Figure size 432x288 with 1 Axes>"
      ]
     },
     "metadata": {
      "needs_background": "light"
     },
     "output_type": "display_data"
    }
   ],
   "source": [
    "data = new_mpd['mpd10']\n",
    "plt.hist(data, bins =30)\n",
    "st.t.interval(alpha=0.95, df=len(data)-1, loc=np.mean(data), scale=st.sem(data)) \n",
    "\n",
    "\n",
    "#using classical statistics and assuming normal distribution \n",
    "std = statistics.stdev(data)\n",
    "mean = np.mean(data)\n",
    "lower_level = mean-1.960*(std/(np.sqrt(len(data)+1)))\n",
    "lower_level\n",
    "upper_level = mean+1.960*(std/(np.sqrt(len(data)+1)))\n",
    "upper_level\n",
    "#X  ±  Z s√n \n",
    "\n",
    "\n",
    "upper_bound_bootstrap = np.percentile(data,97.5)\n",
    "lower_bound_bootstrap = np.percentile(data,2.5)\n",
    "\n",
    "print(lower_bound_bootstrap, upper_bound_bootstrap)\n",
    "\n"
   ]
  },
  {
   "cell_type": "code",
   "execution_count": 120,
   "id": "5d1da4af",
   "metadata": {},
   "outputs": [
    {
     "data": {
      "image/png": "[encoded data removed]",
      "text/plain": [
       "<Figure size 432x288 with 1 Axes>"
      ]
     },
     "metadata": {
      "needs_background": "light"
     },
     "output_type": "display_data"
    }
   ],
   "source": [
    "#print(dict_mpd.keys())\n",
    "#print(np.mean(dict_mpd['mpd10']))\n",
    "#print(np.mean(dict_mpd['mpd10']))\n",
    "#print(new_mpd['mpd10'])\n",
    "plt.hist(new_mpd['mpd3'],bins = 20)\n",
    "plt.hist(new_mpd['mpd5'],bins = 20)\n",
    "plt.hist(new_mpd['mpd7'],bins = 20)\n",
    "plt.hist(new_mpd['mpd9'],bins = 20)\n",
    "plt.hist(new_mpd['mpd11'],bins = 20)\n",
    "plt.hist(new_mpd['mpd13'],bins = 20)\n",
    "plt.hist(new_mpd['mpd15'],bins = 20)\n",
    "plt.hist(new_mpd['mpd17'],bins = 20)\n",
    "plt.hist(new_mpd['mpd19'],bins = 20)\n",
    "plt.hist(new_mpd['mpd25'],bins = 20)\n",
    "plt.hist(new_mpd['mpd30'],bins = 20)\n",
    "plt.hist(new_mpd['mpd35'],bins = 20)\n",
    "plt.hist(new_mpd['mpd45'],bins = 20)\n",
    "plt.hist(new_mpd['mpd50'],bins = 20)\n",
    "#plt.hist(new_mpd['mpd50'])\n",
    "#plt.hist(new_mpd['mpd100'])\n",
    "#plt.hist(new_mpd['mpd1000'])\n",
    "plt.title('expected pd histograms across multiple tree sizes')\n",
    "plt.xlabel('pd')\n",
    "plt.ylabel('frequency')\n",
    "labels = (\"3\",\"5\",\"100\",\"200\",\"1000\")\n",
    "plt.legend(labels)\n",
    "plt.savefig('pd_histograms.jpg', dpi=300)"
   ]
  },
  {
   "cell_type": "code",
   "execution_count": 126,
   "id": "225d6de0",
   "metadata": {},
   "outputs": [
    {
     "name": "stdout",
     "output_type": "stream",
     "text": [
      "([189.30376896842435, 211.23623688235227, 226.1560194546785, 234.48823081701912, 241.83588780190848, 247.81570051632798, 250.72475466598263, 255.0558958796774, 258.08404431733857, 260.1937572759048, 261.6661546769167, 262.5928976014143, 265.30198581085125, 264.91207986357637, 265.23469154457234, 267.58417510508315, 268.34578669254216, 269.8276189072309, 271.1757055090031, 272.1653654622156, 272.79427013861755, 270.85542108403996, 272.4281716458743, 273.3544915769995, 274.6326541475374, 274.73774994802335, 275.4472542467874, 274.2298671171725, 274.35768733512657, 276.11298158715016, 274.82020292131654, 276.003119083718, 275.10728677325835, 276.29851721475535, 275.7726821995144, 276.0353205978962, 276.296447495813, 276.3125889954575, 277.1620086884483, 278.64735957100265, 278.1392125092064, 278.8732656182749, 277.8467955751872, 277.5956428791211, 278.5595625458628, 278.0680379569607, 277.67518061161746, 278.42639694980755], [194.03467667722126, 215.24731571764778, 229.96717714532153, 238.4047139829809, 244.88380119809153, 251.05679988367206, 253.75239153401736, 257.89666412032267, 260.9201964826615, 262.86281892409534, 264.2283907230833, 264.98282279858574, 267.6853379128724, 267.2429963364237, 267.4115519424016, 269.8473696949167, 270.310771907458, 272.0346470927692, 273.2469692909968, 274.29738749073726, 274.7705100613824, 272.75471171596, 274.2756559541257, 275.1011256230005, 276.4717242524627, 276.56794085197663, 277.1979287532127, 276.0958120828275, 276.08209466487347, 277.8149291235606, 276.4930592786835, 277.58725011628206, 276.60396502674166, 277.87050018524457, 277.3840572004857, 277.6544713940958, 277.8636803041869, 277.9555848045425, 278.76849511155183, 280.1379614289973, 279.62472309079357, 280.41681518172504, 279.3028600248128, 279.0422801208789, 280.00049105413717, 279.4551752430394, 279.0914049883825, 279.7807336501925], [191.6692228228228, 213.24177630000003, 228.0615983, 236.4464724, 243.3598445, 249.43625020000002, 252.2385731, 256.47628000000003, 259.5021204, 261.52828810000005, 262.9472727, 263.7878602, 266.4936618618618, 266.0775381, 266.323121743487, 268.71577239999993, 269.3282793000001, 270.93113300000005, 272.21133739999993, 273.23137647647644, 273.7823901, 271.8050664, 273.3519138, 274.2278086, 275.55218920000004, 275.6528454, 276.32259150000004, 275.1628396, 275.219891, 276.9639553553554, 275.6566311, 276.7951846, 275.8556259, 277.08450869999996, 276.57836970000005, 276.844895995996, 277.08006389999997, 277.1340869, 277.96525190000006, 279.3926605, 278.8819678, 279.64504039999997, 278.5748278, 278.3189615, 279.2800268, 278.76160660000005, 278.3832928, 279.1035653])\n"
     ]
    }
   ],
   "source": [
    "#TODO: make function to get confidence interval and means. \n",
    "#CI TODO: check whether z or t is used. don't know variance or mean. Should use t distribution. \n",
    "def CI_conglomerate(dictionary): #assuming normal distribution\n",
    "    low_array = []\n",
    "    high_array = []\n",
    "    mean_array = []\n",
    "    for key in dictionary.keys():\n",
    "        mean_temp = np.mean(dictionary[key])\n",
    "        CI_temp = st.t.interval(confidence=0.95, df=len(dictionary[key])-1, loc=np.mean(dictionary[key]), scale=st.sem(dictionary[key]))\n",
    "        low_array.append(CI_temp[0])\n",
    "        high_array.append(CI_temp[1])\n",
    "        mean_array.append(mean_temp)\n",
    "    return(low_array,high_array,mean_array)\n",
    "\n",
    "new_CI = CI_conglomerate(new_mpd)\n",
    "print(new_CI)"
   ]
  },
  {
   "cell_type": "code",
   "execution_count": 127,
   "id": "7a5bbf58",
   "metadata": {},
   "outputs": [],
   "source": [
    "def CI_bootstrap(dictionary): #assuming normal distribution\n",
    "    low_array = []\n",
    "    high_array = []\n",
    "    mean_array = []\n",
    "    for key in dictionary.keys():\n",
    "        data_temp = dictionary[key]\n",
    "        upper_bound_bootstrap = np.percentile(data_temp,97.5)\n",
    "        lower_bound_bootstrap = np.percentile(data_temp,2.5)\n",
    "        low_array.append(lower_bound_bootstrap)\n",
    "        high_array.append(upper_bound_bootstrap)\n",
    "        mean_array.append(np.mean(dictionary[key]))\n",
    "    return(low_array,high_array,mean_array)\n",
    "\n"
   ]
  },
  {
   "cell_type": "code",
   "execution_count": 128,
   "id": "27bcccbc",
   "metadata": {},
   "outputs": [],
   "source": [
    "new_CI_2 = CI_bootstrap(new_mpd) #CI for mpd\n",
    "\n",
    "CI_mntd_bootstrap = CI_bootstrap(new_mntd)  #CI for mntd"
   ]
  },
  {
   "cell_type": "code",
   "execution_count": 129,
   "id": "0d125789",
   "metadata": {},
   "outputs": [],
   "source": [
    "#target_directory = os.getcwd() + \"/\"+ JOBID +\"_output_files/\"\n",
    "\n",
    "\n",
    "#os.listdir(target_directory)"
   ]
  },
  {
   "cell_type": "code",
   "execution_count": 130,
   "id": "6995b7af",
   "metadata": {},
   "outputs": [
    {
     "data": {
      "image/png": "[encoded data removed]",
      "text/plain": [
       "<Figure size 432x288 with 1 Axes>"
      ]
     },
     "metadata": {
      "needs_background": "light"
     },
     "output_type": "display_data"
    }
   ],
   "source": [
    "#print(average_mpd_rnd)\n",
    "\n",
    "plt.plot(tree_sizes, new_CI_2[0])\n",
    "plt.plot(tree_sizes, new_CI_2[1])\n",
    "plt.plot(tree_sizes,new_CI_2[2])\n",
    "labels2 = (\"low\", \"high\", \"mean\")\n",
    "plt.ylabel(\"mpd\")\n",
    "plt.xlabel(\"sample size\")\n",
    "plt.title('95% CI for expected Mpd across tree sizes')\n",
    "plt.xlabel('tree size')\n",
    "plt.ylabel('mpd')\n",
    "plt.legend(labels2)\n",
    "plt.savefig('pd_95CI.jpg', dpi=300)\n"
   ]
  },
  {
   "cell_type": "code",
   "execution_count": 39,
   "id": "60f64062",
   "metadata": {},
   "outputs": [],
   "source": [
    "CI_export_bootstrap = pd.DataFrame(new_CI_2)\n",
    "CI_colnames = dict.keys(new_mpd)\n",
    "CI_export_bootstrap.columns = CI_colnames\n",
    "CI_export_bootstrap.index = [\"Low\", \"High\", \"Mean\"]\n",
    "CI_export_bootstrap.to_csv(\"mpd_output_bootstrap_large.csv\")\n"
   ]
  },
  {
   "cell_type": "code",
   "execution_count": 46,
   "id": "b1fd4cd3",
   "metadata": {},
   "outputs": [],
   "source": [
    "CI_export_bootstrap_mntd = pd.DataFrame(CI_mntd_bootstrap)\n",
    "CI_colnames = dict.keys(new_mntd)\n",
    "CI_export_bootstrap_mntd.columns = CI_colnames\n",
    "CI_export_bootstrap_mntd.index = [\"Low\", \"High\", \"Mean\"]\n",
    "CI_export_bootstrap_mntd.to_csv(\"mntd_output_bootstrap_large.csv\")"
   ]
  },
  {
   "cell_type": "code",
   "execution_count": 110,
   "id": "a047bb3c",
   "metadata": {},
   "outputs": [
    {
     "name": "stdout",
     "output_type": "stream",
     "text": [
      "                   0           1           2\n",
      "mpd10     204.463720  294.237310  254.351177\n",
      "mpd25     239.276267  306.549322  273.200676\n",
      "mpd50     259.076900  299.943128  278.655261\n",
      "mpd75     263.802600  298.574070  281.164877\n",
      "mpd100    266.641172  296.312715  281.922264\n",
      "mpd350    277.550120  293.661700  284.766678\n",
      "mpd500    278.902140  291.201710  284.996554\n",
      "mpd700    278.806100  291.229400  285.068657\n",
      "mpd900    280.464045  290.208788  285.354417\n",
      "mpd1000   280.994243  290.451200  285.785992\n",
      "mpd2000   283.479300  290.274515  286.602714\n",
      "mpd3000   285.300335  290.371170  287.768884\n",
      "mpd4000   287.015085  290.682205  288.878811\n",
      "mpd5000   288.202800  291.508200  289.832533\n",
      "mpd6000   289.754405  292.608900  291.126389\n",
      "mpd7000   291.076040  293.178485  292.157583\n",
      "mpd8000   292.174015  294.068200  293.157555\n",
      "mpd9000   293.133900  294.701500  293.888918\n",
      "mpd10000  293.876400  294.957723  294.427390\n"
     ]
    },
    {
     "data": {
      "text/plain": [
       "<matplotlib.collections.PathCollection at 0x13edc4c70>"
      ]
     },
     "execution_count": 110,
     "metadata": {},
     "output_type": "execute_result"
    },
    {
     "data": {
      "image/png": "[encoded data removed]",
      "text/plain": [
       "<Figure size 432x288 with 1 Axes>"
      ]
     },
     "metadata": {
      "needs_background": "light"
     },
     "output_type": "display_data"
    }
   ],
   "source": [
    "data = pd.DataFrame(pd.read_csv(\"mpd_output_bootstrap_large.csv\"))\n",
    "data_larger50 = data.drop(['Unnamed: 0'], axis=1)\n",
    "data_larger50_T = data_larger50.T\n",
    "print(data_larger50_T)\n",
    "tree_sizes_large = [10,25,50,75,100,350,500,700,900,1000,2000,3000,4000,5000,6000,7000,8000,9000,10000] # define the tree sizes that we have data for (aka: parameter combinations)\n",
    "plt.scatter(tree_sizes_large,data_larger50_T.iloc[:,0])\n",
    "plt.scatter(tree_sizes_large,data_larger50_T.iloc[:,1])\n",
    "plt.scatter(tree_sizes_large,data_larger50_T.iloc[:,2])\n",
    "\n",
    "\n"
   ]
  },
  {
   "cell_type": "code",
   "execution_count": 79,
   "id": "f9290a50",
   "metadata": {},
   "outputs": [
    {
     "name": "stdout",
     "output_type": "stream",
     "text": [
      "{'Unnamed: 0': {0: 'Low', 1: 'High', 2: 'Mean'}, 'mpd75': {0: 263.8026, 1: 298.57407, 2: 281.1648773547094}, 'mpd100': {0: 266.6411725, 1: 296.312715, 2: 281.9222642}, 'mpd350': {0: 277.55012, 1: 293.6617, 2: 284.7666784}, 'mpd500': {0: 278.90214, 1: 291.20171, 2: 284.99655440000004}, 'mpd700': {0: 278.8061, 1: 291.2294, 2: 285.0686566}, 'mpd900': {0: 280.464045, 1: 290.2087875, 2: 285.354417}, 'mpd1000': {0: 280.99424250000004, 1: 290.4512, 2: 285.7859924}, 'mpd2000': {0: 283.4793, 1: 290.274515, 2: 286.6027138}, 'mpd3000': {0: 285.300335, 1: 290.37117, 2: 287.76888419999995}, 'mpd4000': {0: 287.015085, 1: 290.682205, 2: 288.8788114228457}, 'mpd5000': {0: 288.2028, 1: 291.5082, 2: 289.83253260000004}, 'mpd6000': {0: 289.754405, 1: 292.6089, 2: 291.1263886}, 'mpd7000': {0: 291.07604, 1: 293.178485, 2: 292.1575826}, 'mpd8000': {0: 292.174015, 1: 294.0682, 2: 293.1575552}, 'mpd9000': {0: 293.1339, 1: 294.7015, 2: 293.8889176}, 'mpd10000': {0: 293.8764, 1: 294.95772250000005, 2: 294.4273898}}\n"
     ]
    }
   ],
   "source": [
    "\n"
   ]
  },
  {
   "cell_type": "code",
   "execution_count": null,
   "id": "4aae84b0",
   "metadata": {},
   "outputs": [],
   "source": []
  }
 ],
 "metadata": {
  "kernelspec": {
   "display_name": "Python 3 (ipykernel)",
   "language": "python",
   "name": "python3"
  },
  "language_info": {
   "codemirror_mode": {
    "name": "ipython",
    "version": 3
   },
   "file_extension": ".py",
   "mimetype": "text/x-python",
   "name": "python",
   "nbconvert_exporter": "python",
   "pygments_lexer": "ipython3",
   "version": "3.10.5"
  }
 },
 "nbformat": 4,
 "nbformat_minor": 5
}
