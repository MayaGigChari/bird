{
 "cells": [
  {
   "cell_type": "code",
   "execution_count": 35,
   "id": "008089ba",
   "metadata": {},
   "outputs": [],
   "source": [
    "#this is a script for compiling data that has been fully parallelized on the cluster. \n",
    "\n",
    "import pandas as pd\n",
    "import matplotlib.pyplot as plt\n",
    "import os\n",
    "import string\n",
    "import fnmatch\n",
    "import os\n",
    "import matplotlib.pyplot as plt\n",
    "import numpy as np\n",
    "import scipy.stats as st\n",
    "import statistics\n"
   ]
  },
  {
   "cell_type": "code",
   "execution_count": 36,
   "id": "d3338fd9",
   "metadata": {},
   "outputs": [
    {
     "name": "stdout",
     "output_type": "stream",
     "text": [
      "/Users/mayachari/Desktop/bird/Parallel_Hoffman_full\n"
     ]
    }
   ],
   "source": [
    "cwd = os.getcwd()\n",
    "print(cwd)"
   ]
  },
  {
   "cell_type": "code",
   "execution_count": 37,
   "id": "00af4fc9",
   "metadata": {},
   "outputs": [
    {
     "data": {
      "text/plain": [
       "231.073"
      ]
     },
     "execution_count": 37,
     "metadata": {},
     "output_type": "execute_result"
    }
   ],
   "source": [
    "target_file_get = os.getcwd() + \"/\"+ \"5055818\" +\"_output_files/\"+  \"10_4out.csv\"\n",
    "df = pd.read_csv(target_file_get)\n",
    "df.iloc[0]['mpd.rnd']\n",
    "\n",
    "#look at one mpd randomization to see data structure. "
   ]
  },
  {
   "cell_type": "code",
   "execution_count": 38,
   "id": "b4541000",
   "metadata": {},
   "outputs": [],
   "source": [
    "tree_sizes = [10,50,100,200,1000] # define the tree sizes that we have data for (aka: parameter combinations)\n",
    "\n"
   ]
  },
  {
   "cell_type": "code",
   "execution_count": 39,
   "id": "f9e06cfc",
   "metadata": {},
   "outputs": [],
   "source": [
    "# Create your dictionary class\n",
    "\n",
    "class my_dictionary(dict):\n",
    " \n",
    "  # __init__ function\n",
    "  def __init__(self):\n",
    "    self = dict()\n",
    " \n",
    "  # Function to add key:value\n",
    "  def add(self, key, value):\n",
    "    self[key] = value\n"
   ]
  },
  {
   "cell_type": "code",
   "execution_count": 40,
   "id": "70fda93a",
   "metadata": {},
   "outputs": [],
   "source": [
    "\n",
    "#right now the mean part of this function is redundant but I'm keeping it in just in case. \n",
    "#avg_mpd_rand = []\n",
    "\n",
    "def mpd_stats(tree_sizes, JobIDint, target_directory):\n",
    "    dict_mpd = my_dictionary() #initialize new dictionary \n",
    "    \n",
    "    for i in tree_sizes:\n",
    "        size = str(i)\n",
    "        count = 0\n",
    "        mpd_sum = 0\n",
    "        array_temp = []\n",
    "        name = \"mpd\" + str(i)\n",
    "        for file in os.listdir(target_directory):\n",
    "            if file.startswith(size + \"_\"):\n",
    "                direct = target_directory + file \n",
    "                temp_df = pd.read_csv(direct)\n",
    "                mpd_temp = temp_df.iloc[0]['mpd.rnd']\n",
    "                mpd_sum = mpd_sum + temp_df.iloc[0]['mpd.rnd']\n",
    "                count  = count + 1\n",
    "                array_temp.append(mpd_temp)\n",
    "        #average_mpd_rnd.append(mpd_sum/count)\n",
    "        dict_mpd.add(name, array_temp)\n",
    "    \n",
    "    return dict_mpd\n",
    "    \n",
    "        #average_mpd_rnd.append(mpd.rand)\n",
    "\n",
    "\n"
   ]
  },
  {
   "cell_type": "code",
   "execution_count": 41,
   "id": "fe566d6c",
   "metadata": {},
   "outputs": [],
   "source": [
    "num_files = 1; #predetermine the number of files/runs. This is equivalent to the array_ID from the r script. \n",
    "JobIDint = 5055818\n",
    "JOBID = str(JobIDint)\n",
    "target_directory = os.getcwd() + \"/\"+ JOBID +\"_output_files/\"\n",
    "\n",
    "new_mpd = mpd_stats(tree_sizes, JobIDint, target_directory)"
   ]
  },
  {
   "cell_type": "code",
   "execution_count": 61,
   "id": "2782826d",
   "metadata": {},
   "outputs": [
    {
     "name": "stdout",
     "output_type": "stream",
     "text": [
      "225.06232 295.79903999999993\n"
     ]
    },
    {
     "name": "stderr",
     "output_type": "stream",
     "text": [
      "/var/folders/fv/gkdyhnhs4wvc6bps73kr1d9c0000gp/T/ipykernel_14124/149918867.py:3: DeprecationWarning: Use of keyword argument `alpha` for method `interval` is deprecated. Use first positional argument or keyword argument `confidence` instead.\n",
      "  st.t.interval(alpha=0.95, df=len(data)-1, loc=np.mean(data), scale=st.sem(data))\n"
     ]
    },
    {
     "data": {
      "image/png": "[encoded data removed]",
      "text/plain": [
       "<Figure size 432x288 with 1 Axes>"
      ]
     },
     "metadata": {
      "needs_background": "light"
     },
     "output_type": "display_data"
    }
   ],
   "source": [
    "data = new_mpd['mpd10']\n",
    "plt.hist(data)\n",
    "st.t.interval(alpha=0.95, df=len(data)-1, loc=np.mean(data), scale=st.sem(data)) \n",
    "\n",
    "\n",
    "#using classical statistics and assuming normal distribution \n",
    "std = statistics.stdev(data)\n",
    "mean = np.mean(data)\n",
    "lower_level = mean-1.960*(std/(np.sqrt(len(data)+1)))\n",
    "lower_level\n",
    "upper_level = mean+1.960*(std/(np.sqrt(len(data)+1)))\n",
    "upper_level\n",
    "#X  ±  Z s√n \n",
    "\n",
    "\n",
    "upper_bound_bootstrap = np.percentile(data,97.5)\n",
    "lower_bound_bootstrap = np.percentile(data,2.5)\n",
    "\n",
    "print(lower_bound_bootstrap, upper_bound_bootstrap)\n",
    "\n"
   ]
  },
  {
   "cell_type": "code",
   "execution_count": 43,
   "id": "5d1da4af",
   "metadata": {},
   "outputs": [
    {
     "data": {
      "image/png": "[encoded data removed]",
      "text/plain": [
       "<Figure size 432x288 with 1 Axes>"
      ]
     },
     "metadata": {
      "needs_background": "light"
     },
     "output_type": "display_data"
    }
   ],
   "source": [
    "#print(dict_mpd.keys())\n",
    "#print(np.mean(dict_mpd['mpd10']))\n",
    "#print(np.mean(dict_mpd['mpd10']))\n",
    "#print(new_mpd['mpd10'])\n",
    "plt.hist(new_mpd['mpd10'])\n",
    "plt.hist(new_mpd['mpd50'])\n",
    "plt.hist(new_mpd['mpd100'])\n",
    "plt.hist(new_mpd['mpd200'])\n",
    "plt.hist(new_mpd['mpd1000'])\n",
    "plt.title('expected pd histograms across multiple tree sizes')\n",
    "plt.xlabel('pd')\n",
    "plt.ylabel('frequency')\n",
    "labels = (\"10\",\"50\",\"100\",\"200\",\"1000\")\n",
    "plt.legend(labels)\n",
    "plt.savefig('pd_histograms.jpg', dpi=300)"
   ]
  },
  {
   "cell_type": "code",
   "execution_count": 44,
   "id": "225d6de0",
   "metadata": {},
   "outputs": [
    {
     "name": "stdout",
     "output_type": "stream",
     "text": [
      "([253.843843421419, 277.13429383414024, 281.5363917784159, 283.0994480789183, 285.475108928312], [258.48131537255085, 279.38143016585974, 283.1468772215841, 284.2360799210817, 285.95119107168796], [256.16257939698494, 278.257862, 282.3416345, 283.667764, 285.71315])\n"
     ]
    }
   ],
   "source": [
    "#TODO: make function to get confidence interval and means. \n",
    "#CI TODO: check whether z or t is used. don't know variance or mean. Should use t distribution. \n",
    "def CI_conglomerate(dictionary): #assuming normal distribution\n",
    "    low_array = []\n",
    "    high_array = []\n",
    "    mean_array = []\n",
    "    for key in dictionary.keys():\n",
    "        mean_temp = np.mean(dictionary[key])\n",
    "        CI_temp = st.t.interval(confidence=0.95, df=len(dictionary[key])-1, loc=np.mean(dictionary[key]), scale=st.sem(dictionary[key]))\n",
    "        low_array.append(CI_temp[0])\n",
    "        high_array.append(CI_temp[1])\n",
    "        mean_array.append(mean_temp)\n",
    "    return(low_array,high_array,mean_array)\n",
    "\n",
    "new_CI = CI_conglomerate(new_mpd)\n",
    "print(new_CI)"
   ]
  },
  {
   "cell_type": "code",
   "execution_count": 55,
   "id": "20400e62",
   "metadata": {},
   "outputs": [
    {
     "name": "stdout",
     "output_type": "stream",
     "text": [
      "([225.06232, 263.9226, 270.7961, 275.74994250000003, 282.39448250000004], [295.79903999999993, 297.149475, 293.874435, 290.7335875, 289.03988], [256.16257939698494, 278.257862, 282.3416345, 283.667764, 285.71315])\n"
     ]
    }
   ],
   "source": [
    "def CI_bootstrap(dictionary): #assuming normal distribution\n",
    "    low_array = []\n",
    "    high_array = []\n",
    "    mean_array = []\n",
    "    for key in dictionary.keys():\n",
    "        data_temp = dictionary[key]\n",
    "        upper_bound_bootstrap = np.percentile(data_temp,97.5)\n",
    "        lower_bound_bootstrap = np.percentile(data_temp,2.5)\n",
    "        low_array.append(lower_bound_bootstrap)\n",
    "        high_array.append(upper_bound_bootstrap)\n",
    "        mean_array.append(np.mean(dictionary[key]))\n",
    "    return(low_array,high_array,mean_array)\n",
    "\n",
    "new_CI_2 = CI_bootstrap(new_mpd)\n",
    "print(new_CI_2)"
   ]
  },
  {
   "cell_type": "code",
   "execution_count": 32,
   "id": "0d125789",
   "metadata": {},
   "outputs": [],
   "source": [
    "#target_directory = os.getcwd() + \"/\"+ JOBID +\"_output_files/\"\n",
    "\n",
    "\n",
    "#os.listdir(target_directory)"
   ]
  },
  {
   "cell_type": "code",
   "execution_count": 58,
   "id": "6995b7af",
   "metadata": {},
   "outputs": [
    {
     "data": {
      "image/png": "[encoded data removed]",
      "text/plain": [
       "<Figure size 432x288 with 1 Axes>"
      ]
     },
     "metadata": {
      "needs_background": "light"
     },
     "output_type": "display_data"
    }
   ],
   "source": [
    "#print(average_mpd_rnd)\n",
    "\n",
    "plt.plot(tree_sizes, new_CI_2[0])\n",
    "plt.plot(tree_sizes, new_CI_2[1])\n",
    "plt.plot(tree_sizes,new_CI_2[2])\n",
    "labels2 = (\"low\", \"high\", \"mean\")\n",
    "plt.ylabel(\"PD\")\n",
    "plt.xlabel(\"sample size\")\n",
    "plt.title('95% CI for expected PD across 5 tree sizes')\n",
    "plt.xlabel('tree size')\n",
    "plt.ylabel('pd')\n",
    "plt.legend(labels2)\n",
    "plt.savefig('pd_95CI.jpg', dpi=300)\n"
   ]
  },
  {
   "cell_type": "code",
   "execution_count": 34,
   "id": "ee83c071",
   "metadata": {},
   "outputs": [],
   "source": [
    "CI_export = pd.DataFrame(new_CI)\n",
    "CI_colnames = dict.keys(new_mpd)\n",
    "CI_export.columns = CI_colnames\n",
    "CI_export.index = [\"Low\", \"High\", \"Mean\"]\n",
    "\n",
    "CI_export.to_csv(\"Sample_output.csv\")"
   ]
  },
  {
   "cell_type": "code",
   "execution_count": 59,
   "id": "60f64062",
   "metadata": {},
   "outputs": [],
   "source": [
    "CI_export_bootstrap = pd.DataFrame(new_CI_2)\n",
    "CI_colnames = dict.keys(new_mpd)\n",
    "CI_export_bootstrap.columns = CI_colnames\n",
    "CI_export_bootstrap.index = [\"Low\", \"High\", \"Mean\"]\n",
    "CI_export_bootstrap.to_csv(\"Sample_output_bootstrap.csv\")\n"
   ]
  },
  {
   "cell_type": "code",
   "execution_count": null,
   "id": "b1fd4cd3",
   "metadata": {},
   "outputs": [],
   "source": []
  }
 ],
 "metadata": {
  "kernelspec": {
   "display_name": "Python 3 (ipykernel)",
   "language": "python",
   "name": "python3"
  },
  "language_info": {
   "codemirror_mode": {
    "name": "ipython",
    "version": 3
   },
   "file_extension": ".py",
   "mimetype": "text/x-python",
   "name": "python",
   "nbconvert_exporter": "python",
   "pygments_lexer": "ipython3",
   "version": "3.10.5"
  }
 },
 "nbformat": 4,
 "nbformat_minor": 5
}
