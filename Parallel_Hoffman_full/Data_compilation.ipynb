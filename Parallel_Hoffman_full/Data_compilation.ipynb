{
 "cells": [
  {
   "cell_type": "code",
   "execution_count": 3,
   "id": "008089ba",
   "metadata": {},
   "outputs": [],
   "source": [
    "#this is a script for compiling data that has been fully parallelized on the cluster. \n",
    "\n",
    "import pandas as pd\n",
    "import matplotlib.pyplot as plt\n",
    "import os\n",
    "import string\n",
    "import fnmatch\n",
    "import os\n",
    "import matplotlib.pyplot as plt\n",
    "import numpy as np\n",
    "import scipy.stats as st\n",
    "import statistics\n"
   ]
  },
  {
   "cell_type": "code",
   "execution_count": 4,
   "id": "d3338fd9",
   "metadata": {},
   "outputs": [
    {
     "name": "stdout",
     "output_type": "stream",
     "text": [
      "/Users/mayachari/Desktop/bird/Parallel_Hoffman_full\n"
     ]
    }
   ],
   "source": [
    "cwd = os.getcwd()\n",
    "print(cwd)"
   ]
  },
  {
   "cell_type": "code",
   "execution_count": 5,
   "id": "00af4fc9",
   "metadata": {},
   "outputs": [
    {
     "name": "stdout",
     "output_type": "stream",
     "text": [
      "   Unnamed: 0     plot  ntaxa       mpd  mpd.rnd   mpd.sd     nri  \\\n",
      "0           1  species     10  334.6871  231.073  12.6345 -8.2009   \n",
      "\n",
      "   mpd.ranklow  mpd.rankhi      mntd  mntd.rnd  mntd.sd     nti  mntd.ranklo  \\\n",
      "0            0           2  239.1375  204.6416  11.6184 -2.9691            0   \n",
      "\n",
      "   mntd.rankhi  runs  \n",
      "0            2     2  \n"
     ]
    },
    {
     "data": {
      "text/plain": [
       "231.073"
      ]
     },
     "execution_count": 5,
     "metadata": {},
     "output_type": "execute_result"
    }
   ],
   "source": [
    "target_file_get = os.getcwd() + \"/\"+ \"5055818\" +\"_output_files/\"+  \"10_4out.csv\"\n",
    "df = pd.read_csv(target_file_get)\n",
    "print(df)\n",
    "df.iloc[0]['mpd.rnd']\n",
    "\n",
    "#look at one mpd randomization to see data structure. "
   ]
  },
  {
   "cell_type": "code",
   "execution_count": 6,
   "id": "b4541000",
   "metadata": {},
   "outputs": [
    {
     "data": {
      "text/plain": [
       "19"
      ]
     },
     "execution_count": 6,
     "metadata": {},
     "output_type": "execute_result"
    }
   ],
   "source": [
    "tree_sizes = [10,25,50,75,100,350,500,700,900,1000,2000,3000,4000,5000,6000,7000,8000,9000,10000] # define the tree sizes that we have data for (aka: parameter combinations)\n",
    "len(tree_sizes)\n"
   ]
  },
  {
   "cell_type": "code",
   "execution_count": 7,
   "id": "f9e06cfc",
   "metadata": {},
   "outputs": [],
   "source": [
    "# Create your dictionary class\n",
    "\n",
    "class my_dictionary(dict):\n",
    " \n",
    "  # __init__ function\n",
    "  def __init__(self):\n",
    "    self = dict()\n",
    " \n",
    "  # Function to add key:value\n",
    "  def add(self, key, value):\n",
    "    self[key] = value\n"
   ]
  },
  {
   "cell_type": "code",
   "execution_count": 40,
   "id": "70fda93a",
   "metadata": {},
   "outputs": [],
   "source": [
    "\n",
    "#right now the mean part of this function is redundant but I'm keeping it in just in case. \n",
    "#avg_mpd_rand = []\n",
    "\n",
    "#choice of 2 statistics: mpd, mntd\n",
    "def div_stats(tree_sizes, JobIDint, target_directory, target_statistic):\n",
    "    dict_mpd = my_dictionary() #initialize new dictionary \n",
    "    \n",
    "    if target_statistic == \"mpd\":\n",
    "        target_val = 'mpd.rnd'\n",
    "    else :\n",
    "        target_val = 'mntd.rnd'\n",
    "    for i in tree_sizes:\n",
    "        size = str(i)\n",
    "        count = 0\n",
    "        mpd_sum = 0\n",
    "        array_temp = []\n",
    "        name = target_statistic + str(i)\n",
    "        for file in os.listdir(target_directory):\n",
    "            if file.startswith(size + \"_\"):\n",
    "                direct = target_directory + file \n",
    "                temp_df = pd.read_csv(direct)\n",
    "                mpd_temp = temp_df.iloc[0][target_val]\n",
    "                mpd_sum = mpd_sum + temp_df.iloc[0][target_val]\n",
    "                count  = count + 1\n",
    "                array_temp.append(mpd_temp)\n",
    "        #average_mpd_rnd.append(mpd_sum/count)\n",
    "        dict_mpd.add(name, array_temp)\n",
    "    \n",
    "    return dict_mpd\n",
    "    \n",
    "        #average_mpd_rnd.append(mpd.rand)\n",
    "\n",
    "\n"
   ]
  },
  {
   "cell_type": "code",
   "execution_count": 30,
   "id": "fe566d6c",
   "metadata": {},
   "outputs": [],
   "source": [
    "#local variables for the run. \n",
    "num_files = 1; #predetermine the number of files/runs. This is equivalent to the array_ID from the r script. \n",
    "JobIDint = 5864293\n",
    "JOBID = str(JobIDint)\n",
    "target_directory = os.getcwd() + \"/\"+ JOBID +\"_output_files/\"\n"
   ]
  },
  {
   "cell_type": "code",
   "execution_count": 41,
   "id": "6f85e193",
   "metadata": {},
   "outputs": [],
   "source": [
    "#TODO: write this to a csv somehow so I can delete that massive file. \n",
    "\n",
    "new_mpd = div_stats(tree_sizes, JobIDint, target_directory, 'mpd')\n",
    "new_mntd = div_stats(tree_sizes, JobIDint, target_directory, 'mntd')\n"
   ]
  },
  {
   "cell_type": "code",
   "execution_count": 32,
   "id": "f47f6cc2",
   "metadata": {},
   "outputs": [
    {
     "name": "stdout",
     "output_type": "stream",
     "text": [
      "204.46372 294.23731\n"
     ]
    },
    {
     "name": "stderr",
     "output_type": "stream",
     "text": [
      "/var/folders/y2/xc9jb_w133n8tymks1sbxh7m0000gp/T/ipykernel_13120/4153670113.py:3: DeprecationWarning: Use of keyword argument `alpha` for method `interval` is deprecated. Use first positional argument or keyword argument `confidence` instead.\n",
      "  st.t.interval(alpha=0.95, df=len(data)-1, loc=np.mean(data), scale=st.sem(data))\n"
     ]
    },
    {
     "data": {
      "image/png": "[encoded data removed]",
      "text/plain": [
       "<Figure size 432x288 with 1 Axes>"
      ]
     },
     "metadata": {
      "needs_background": "light"
     },
     "output_type": "display_data"
    }
   ],
   "source": [
    "data = new_mpd['mpd10']\n",
    "plt.hist(data, bins =30)\n",
    "st.t.interval(alpha=0.95, df=len(data)-1, loc=np.mean(data), scale=st.sem(data)) \n",
    "\n",
    "\n",
    "#using classical statistics and assuming normal distribution \n",
    "std = statistics.stdev(data)\n",
    "mean = np.mean(data)\n",
    "lower_level = mean-1.960*(std/(np.sqrt(len(data)+1)))\n",
    "lower_level\n",
    "upper_level = mean+1.960*(std/(np.sqrt(len(data)+1)))\n",
    "upper_level\n",
    "#X  ±  Z s√n \n",
    "\n",
    "\n",
    "upper_bound_bootstrap = np.percentile(data,97.5)\n",
    "lower_bound_bootstrap = np.percentile(data,2.5)\n",
    "\n",
    "print(lower_bound_bootstrap, upper_bound_bootstrap)\n",
    "\n"
   ]
  },
  {
   "cell_type": "code",
   "execution_count": 37,
   "id": "5d1da4af",
   "metadata": {},
   "outputs": [
    {
     "data": {
      "image/png": "[encoded data removed]",
      "text/plain": [
       "<Figure size 432x288 with 1 Axes>"
      ]
     },
     "metadata": {
      "needs_background": "light"
     },
     "output_type": "display_data"
    }
   ],
   "source": [
    "#print(dict_mpd.keys())\n",
    "#print(np.mean(dict_mpd['mpd10']))\n",
    "#print(np.mean(dict_mpd['mpd10']))\n",
    "#print(new_mpd['mpd10'])\n",
    "plt.hist(new_mpd['mpd10'])\n",
    "plt.hist(new_mpd['mpd25'])\n",
    "#plt.hist(new_mpd['mpd50'])\n",
    "#plt.hist(new_mpd['mpd100'])\n",
    "#plt.hist(new_mpd['mpd1000'])\n",
    "plt.title('expected pd histograms across multiple tree sizes')\n",
    "plt.xlabel('pd')\n",
    "plt.ylabel('frequency')\n",
    "labels = (\"10\",\"50\",\"100\",\"200\",\"1000\")\n",
    "plt.legend(labels)\n",
    "plt.savefig('pd_histograms.jpg', dpi=300)"
   ]
  },
  {
   "cell_type": "code",
   "execution_count": null,
   "id": "225d6de0",
   "metadata": {},
   "outputs": [],
   "source": [
    "#TODO: make function to get confidence interval and means. \n",
    "#CI TODO: check whether z or t is used. don't know variance or mean. Should use t distribution. \n",
    "def CI_conglomerate(dictionary): #assuming normal distribution\n",
    "    low_array = []\n",
    "    high_array = []\n",
    "    mean_array = []\n",
    "    for key in dictionary.keys():\n",
    "        mean_temp = np.mean(dictionary[key])\n",
    "        CI_temp = st.t.interval(confidence=0.95, df=len(dictionary[key])-1, loc=np.mean(dictionary[key]), scale=st.sem(dictionary[key]))\n",
    "        low_array.append(CI_temp[0])\n",
    "        high_array.append(CI_temp[1])\n",
    "        mean_array.append(mean_temp)\n",
    "    return(low_array,high_array,mean_array)\n",
    "\n",
    "new_CI = CI_conglomerate(new_mpd)\n",
    "print(new_CI)"
   ]
  },
  {
   "cell_type": "code",
   "execution_count": 38,
   "id": "7a5bbf58",
   "metadata": {},
   "outputs": [
    {
     "name": "stdout",
     "output_type": "stream",
     "text": [
      "([204.46372, 239.2762675, 259.0769, 263.8026, 266.6411725, 277.55012, 278.90214, 278.8061, 280.464045, 280.99424250000004, 283.4793, 285.300335, 287.015085, 288.2028, 289.754405, 291.07604, 292.174015, 293.1339, 293.8764], [294.23731, 306.5493224999999, 299.9431275, 298.57407, 296.31271499999997, 293.6617, 291.20171, 291.2294, 290.20878749999997, 290.4512, 290.274515, 290.37117, 290.682205, 291.5082, 292.6089, 293.178485, 294.0682, 294.7015, 294.95772250000005], [254.35117675350702, 273.200676, 278.6552614000001, 281.1648773547094, 281.9222642, 284.7666784, 284.99655440000004, 285.0686566, 285.354417, 285.7859924, 286.6027138, 287.76888419999995, 288.8788114228457, 289.83253260000004, 291.1263886, 292.15758259999996, 293.1575552, 293.8889176, 294.4273898])\n"
     ]
    }
   ],
   "source": [
    "def CI_bootstrap(dictionary): #assuming normal distribution\n",
    "    low_array = []\n",
    "    high_array = []\n",
    "    mean_array = []\n",
    "    for key in dictionary.keys():\n",
    "        data_temp = dictionary[key]\n",
    "        upper_bound_bootstrap = np.percentile(data_temp,97.5)\n",
    "        lower_bound_bootstrap = np.percentile(data_temp,2.5)\n",
    "        low_array.append(lower_bound_bootstrap)\n",
    "        high_array.append(upper_bound_bootstrap)\n",
    "        mean_array.append(np.mean(dictionary[key]))\n",
    "    return(low_array,high_array,mean_array)\n",
    "\n"
   ]
  },
  {
   "cell_type": "code",
   "execution_count": 45,
   "id": "27bcccbc",
   "metadata": {},
   "outputs": [],
   "source": [
    "new_CI_2 = CI_bootstrap(new_mpd) #CI for mpd\n",
    "\n",
    "CI_mntd_bootstrap = CI_bootstrap(new_mntd)  #CI for mntd"
   ]
  },
  {
   "cell_type": "code",
   "execution_count": null,
   "id": "0d125789",
   "metadata": {},
   "outputs": [],
   "source": [
    "#target_directory = os.getcwd() + \"/\"+ JOBID +\"_output_files/\"\n",
    "\n",
    "\n",
    "#os.listdir(target_directory)"
   ]
  },
  {
   "cell_type": "code",
   "execution_count": null,
   "id": "6995b7af",
   "metadata": {},
   "outputs": [],
   "source": [
    "#print(average_mpd_rnd)\n",
    "\n",
    "plt.plot(tree_sizes, new_CI_2[0])\n",
    "plt.plot(tree_sizes, new_CI_2[1])\n",
    "plt.plot(tree_sizes,new_CI_2[2])\n",
    "labels2 = (\"low\", \"high\", \"mean\")\n",
    "plt.ylabel(\"PD\")\n",
    "plt.xlabel(\"sample size\")\n",
    "plt.title('95% CI for expected Mntd across tree sizes')\n",
    "plt.xlabel('tree size')\n",
    "plt.ylabel('mntd')\n",
    "plt.legend(labels2)\n",
    "plt.savefig('pd_95CI.jpg', dpi=300)\n"
   ]
  },
  {
   "cell_type": "code",
   "execution_count": 39,
   "id": "60f64062",
   "metadata": {},
   "outputs": [],
   "source": [
    "CI_export_bootstrap = pd.DataFrame(new_CI_2)\n",
    "CI_colnames = dict.keys(new_mpd)\n",
    "CI_export_bootstrap.columns = CI_colnames\n",
    "CI_export_bootstrap.index = [\"Low\", \"High\", \"Mean\"]\n",
    "CI_export_bootstrap.to_csv(\"mpd_output_bootstrap_large.csv\")\n"
   ]
  },
  {
   "cell_type": "code",
   "execution_count": 46,
   "id": "b1fd4cd3",
   "metadata": {},
   "outputs": [],
   "source": [
    "CI_export_bootstrap_mntd = pd.DataFrame(CI_mntd_bootstrap)\n",
    "CI_colnames = dict.keys(new_mntd)\n",
    "CI_export_bootstrap_mntd.columns = CI_colnames\n",
    "CI_export_bootstrap_mntd.index = [\"Low\", \"High\", \"Mean\"]\n",
    "CI_export_bootstrap_mntd.to_csv(\"mntd_output_bootstrap_large.csv\")"
   ]
  },
  {
   "cell_type": "code",
   "execution_count": null,
   "id": "a047bb3c",
   "metadata": {},
   "outputs": [],
   "source": []
  }
 ],
 "metadata": {
  "kernelspec": {
   "display_name": "Python 3 (ipykernel)",
   "language": "python",
   "name": "python3"
  },
  "language_info": {
   "codemirror_mode": {
    "name": "ipython",
    "version": 3
   },
   "file_extension": ".py",
   "mimetype": "text/x-python",
   "name": "python",
   "nbconvert_exporter": "python",
   "pygments_lexer": "ipython3",
   "version": "3.10.5"
  }
 },
 "nbformat": 4,
 "nbformat_minor": 5
}
