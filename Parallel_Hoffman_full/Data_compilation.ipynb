{
 "cells": [
  {
   "cell_type": "code",
   "execution_count": 2,
   "id": "008089ba",
   "metadata": {},
   "outputs": [],
   "source": [
    "#this is a script for compiling data that has been fully parallelized on the cluster. \n",
    "\n",
    "import pandas as pd\n",
    "import matplotlib.pyplot as plt\n",
    "import os\n",
    "import string"
   ]
  },
  {
   "cell_type": "code",
   "execution_count": 3,
   "id": "d3338fd9",
   "metadata": {},
   "outputs": [
    {
     "name": "stdout",
     "output_type": "stream",
     "text": [
      "/Users/mayachari/Desktop/bird/Parallel_Hoffman_full\n"
     ]
    }
   ],
   "source": [
    "cwd = os.getcwd()\n",
    "print(cwd)"
   ]
  },
  {
   "cell_type": "code",
   "execution_count": 5,
   "id": "00af4fc9",
   "metadata": {},
   "outputs": [
    {
     "data": {
      "text/html": [
       "<div>\n",
       "<style scoped>\n",
       "    .dataframe tbody tr th:only-of-type {\n",
       "        vertical-align: middle;\n",
       "    }\n",
       "\n",
       "    .dataframe tbody tr th {\n",
       "        vertical-align: top;\n",
       "    }\n",
       "\n",
       "    .dataframe thead th {\n",
       "        text-align: right;\n",
       "    }\n",
       "</style>\n",
       "<table border=\"1\" class=\"dataframe\">\n",
       "  <thead>\n",
       "    <tr style=\"text-align: right;\">\n",
       "      <th></th>\n",
       "      <th>Unnamed: 0</th>\n",
       "      <th>plot</th>\n",
       "      <th>ntaxa</th>\n",
       "      <th>mpd</th>\n",
       "      <th>mpd.rnd</th>\n",
       "      <th>mpd.sd</th>\n",
       "      <th>nri</th>\n",
       "      <th>mpd.ranklow</th>\n",
       "      <th>mpd.rankhi</th>\n",
       "      <th>mntd</th>\n",
       "      <th>mntd.rnd</th>\n",
       "      <th>mntd.sd</th>\n",
       "      <th>nti</th>\n",
       "      <th>mntd.ranklo</th>\n",
       "      <th>mntd.rankhi</th>\n",
       "      <th>runs</th>\n",
       "    </tr>\n",
       "  </thead>\n",
       "  <tbody>\n",
       "    <tr>\n",
       "      <th>0</th>\n",
       "      <td>1</td>\n",
       "      <td>species</td>\n",
       "      <td>10</td>\n",
       "      <td>334.6871</td>\n",
       "      <td>251.2945</td>\n",
       "      <td>NaN</td>\n",
       "      <td>NaN</td>\n",
       "      <td>0</td>\n",
       "      <td>1</td>\n",
       "      <td>239.1375</td>\n",
       "      <td>182.9458</td>\n",
       "      <td>NaN</td>\n",
       "      <td>NaN</td>\n",
       "      <td>0</td>\n",
       "      <td>1</td>\n",
       "      <td>1</td>\n",
       "    </tr>\n",
       "  </tbody>\n",
       "</table>\n",
       "</div>"
      ],
      "text/plain": [
       "   Unnamed: 0     plot  ntaxa       mpd   mpd.rnd  mpd.sd  nri  mpd.ranklow  \\\n",
       "0           1  species     10  334.6871  251.2945     NaN  NaN            0   \n",
       "\n",
       "   mpd.rankhi      mntd  mntd.rnd  mntd.sd  nti  mntd.ranklo  mntd.rankhi  \\\n",
       "0           1  239.1375  182.9458      NaN  NaN            0            1   \n",
       "\n",
       "   runs  \n",
       "0     1  "
      ]
     },
     "execution_count": 5,
     "metadata": {},
     "output_type": "execute_result"
    }
   ],
   "source": [
    "target_file_get = os.getcwd() + \"/\"+ \"5023583\" +\"_output_files/\"+  \"10_4out.csv\"\n",
    "pd.read_csv(target_file_get)\n",
    "\n",
    "#look at one mpd randomization to see data structure. "
   ]
  },
  {
   "cell_type": "code",
   "execution_count": 7,
   "id": "b4541000",
   "metadata": {},
   "outputs": [],
   "source": [
    "tree_sizes = [10,50,100,200,1000] # define the tree sizes that we have data for (aka: parameter combinations)\n",
    "\n"
   ]
  },
  {
   "cell_type": "code",
   "execution_count": null,
   "id": "70fda93a",
   "metadata": {},
   "outputs": [],
   "source": [
    "num_files = 1; #predetermine the number of files/runs. This is equivalent to the array_ID from the r script. \n",
    "for i in tree_sizes: "
   ]
  }
 ],
 "metadata": {
  "kernelspec": {
   "display_name": "Python 3 (ipykernel)",
   "language": "python",
   "name": "python3"
  },
  "language_info": {
   "codemirror_mode": {
    "name": "ipython",
    "version": 3
   },
   "file_extension": ".py",
   "mimetype": "text/x-python",
   "name": "python",
   "nbconvert_exporter": "python",
   "pygments_lexer": "ipython3",
   "version": "3.10.5"
  }
 },
 "nbformat": 4,
 "nbformat_minor": 5
}
