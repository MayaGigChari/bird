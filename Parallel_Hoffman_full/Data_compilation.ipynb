{
 "cells": [
  {
   "cell_type": "code",
   "execution_count": 50,
   "id": "008089ba",
   "metadata": {},
   "outputs": [],
   "source": [
    "#this is a script for compiling data that has been fully parallelized on the cluster. \n",
    "\n",
    "import pandas as pd\n",
    "import matplotlib.pyplot as plt\n",
    "import os\n",
    "import string\n",
    "import fnmatch\n",
    "import os\n",
    "import matplotlib.pyplot as plt\n"
   ]
  },
  {
   "cell_type": "code",
   "execution_count": 51,
   "id": "d3338fd9",
   "metadata": {},
   "outputs": [
    {
     "name": "stdout",
     "output_type": "stream",
     "text": [
      "/Users/mayachari/Desktop/bird/Parallel_Hoffman_full\n"
     ]
    }
   ],
   "source": [
    "cwd = os.getcwd()\n",
    "print(cwd)"
   ]
  },
  {
   "cell_type": "code",
   "execution_count": 44,
   "id": "00af4fc9",
   "metadata": {},
   "outputs": [
    {
     "data": {
      "text/plain": [
       "231.073"
      ]
     },
     "execution_count": 44,
     "metadata": {},
     "output_type": "execute_result"
    }
   ],
   "source": [
    "target_file_get = os.getcwd() + \"/\"+ \"5055818\" +\"_output_files/\"+  \"10_4out.csv\"\n",
    "df = pd.read_csv(target_file_get)\n",
    "df.iloc[0]['mpd.rnd']\n",
    "\n",
    "#look at one mpd randomization to see data structure. "
   ]
  },
  {
   "cell_type": "code",
   "execution_count": 45,
   "id": "b4541000",
   "metadata": {},
   "outputs": [],
   "source": [
    "tree_sizes = [10,50,100,200,1000] # define the tree sizes that we have data for (aka: parameter combinations)\n",
    "\n"
   ]
  },
  {
   "cell_type": "code",
   "execution_count": 48,
   "id": "70fda93a",
   "metadata": {},
   "outputs": [],
   "source": [
    "num_files = 1; #predetermine the number of files/runs. This is equivalent to the array_ID from the r script. \n",
    "JobIDint = 5055818\n",
    "JOBID = str(JobIDint)\n",
    "\n",
    "\n",
    "average_mpd_rnd = []\n",
    "target_directory = os.getcwd() + \"/\"+ JOBID +\"_output_files/\"\n",
    "\n",
    "for i in tree_sizes:\n",
    "    size = str(i)\n",
    "    count = 0\n",
    "    mpd = 0\n",
    "    for file in os.listdir(target_directory):\n",
    "        if file.startswith(size + \"_\"):\n",
    "            direct = target_directory + file \n",
    "            temp_df = pd.read_csv(direct)\n",
    "            mpd = mpd + temp_df.iloc[0]['mpd.rnd']\n",
    "            count  = count + 1\n",
    "    average_mpd_rnd.append(mpd/count)\n",
    "    #average_mpd_rnd.append(mpd.rand)\n",
    "#for i in tree_sizes:\n",
    "#    target_file = os.getcwd() + \"/\"+ JOBID +\"_output_files/\"+  \"10_4out.csv\"\n",
    "#    pd.read_csv()\n",
    "\n"
   ]
  },
  {
   "cell_type": "code",
   "execution_count": null,
   "id": "0d125789",
   "metadata": {},
   "outputs": [],
   "source": [
    "#target_directory = os.getcwd() + \"/\"+ JOBID +\"_output_files/\"\n",
    "\n",
    "\n",
    "#os.listdir(target_directory)"
   ]
  },
  {
   "cell_type": "code",
   "execution_count": 52,
   "id": "6995b7af",
   "metadata": {},
   "outputs": [
    {
     "name": "stdout",
     "output_type": "stream",
     "text": [
      "[256.1625793969849, 278.2578619999998, 282.3416344999998, 283.6677639999998, 285.71314999999987]\n"
     ]
    },
    {
     "data": {
      "text/plain": [
       "[<matplotlib.lines.Line2D at 0x120d67370>]"
      ]
     },
     "execution_count": 52,
     "metadata": {},
     "output_type": "execute_result"
    },
    {
     "data": {
      "image/png": "[encoded data removed]",
      "text/plain": [
       "<Figure size 432x288 with 1 Axes>"
      ]
     },
     "metadata": {
      "needs_background": "light"
     },
     "output_type": "display_data"
    }
   ],
   "source": [
    "print(average_mpd_rnd)\n",
    "plt.plot(tree_sizes, average_mpd_rnd)\n"
   ]
  },
  {
   "cell_type": "code",
   "execution_count": null,
   "id": "ee83c071",
   "metadata": {},
   "outputs": [],
   "source": []
  }
 ],
 "metadata": {
  "kernelspec": {
   "display_name": "Python 3 (ipykernel)",
   "language": "python",
   "name": "python3"
  },
  "language_info": {
   "codemirror_mode": {
    "name": "ipython",
    "version": 3
   },
   "file_extension": ".py",
   "mimetype": "text/x-python",
   "name": "python",
   "nbconvert_exporter": "python",
   "pygments_lexer": "ipython3",
   "version": "3.10.5"
  }
 },
 "nbformat": 4,
 "nbformat_minor": 5
}
