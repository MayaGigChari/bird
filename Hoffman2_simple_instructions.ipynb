{
 "cells": [
  {
   "cell_type": "markdown",
   "id": "4dbf97e3",
   "metadata": {},
   "source": [
    "### This script contains simple submission script templates for running an array job"
   ]
  },
  {
   "cell_type": "markdown",
   "id": "a69f8385",
   "metadata": {},
   "source": [
    "#### Running one iteration\n",
    "\n",
    "```Bash \n",
    "\n",
    "#!/bin/bash\n",
    "#$ -cwd #uses current working directory\n",
    "# error = Merged with joblog\n",
    "#$ -o path_to_jobloginfo #here you can specify where you would like (joblog, output) to go \n",
    "#$ -j y \n",
    "#$ -l h_rt=0:30:00,h_data=2G #requests 30 minutes, 2GB of data (per core) #data request \n",
    "#$ -pe shared 2 #requests 2 cores\n",
    "# Email address to notify\n",
    "#$ -M $USER@mail #don't change this line, finds your email in the system \n",
    "# Notify when\n",
    "##$ -m bea #sends you an email (b) when the job begins (e) when job ends (a) when job is aborted (error)\n",
    "\n",
    "# load the job environment: in this case we are using R. \n",
    ". /u/local/Modules/default/init/modules.sh \n",
    "module load R\n",
    "\n",
    "echo ${SGE_TASK_ID} # prints the task I\n",
    "\n",
    "# run julia code\n",
    "echo Running code # prints an affirmation message \n",
    "Rscript filename.R  > path_to_output \n",
    "# this is where we run the Rscript and send all outputs (ex: text files) to the path_to_output\n",
    "\n",
    "```"
   ]
  },
  {
   "cell_type": "markdown",
   "id": "492acec8",
   "metadata": {},
   "source": [
    "#### Running an array job in parallel\n",
    "\n",
    "```Bash \n",
    "\n",
    "#!/bin/bash\n",
    "#$ -cwd #uses current working directory\n",
    "# error = Merged with joblog\n",
    "#$ -o /file/to/write/to\n",
    "#$ -j y \n",
    "#$ -l h_rt=0:30:00,h_data=2G #requests 30 minutes, 2GB of data (per core)\n",
    "#$ -pe shared 2 #requests 2 cores\n",
    "# Email address to notify\n",
    "#$ -M $USER@mail #don't change this line, finds your email in the system \n",
    "# Notify when\n",
    "##$ -m bea #sends you an email (b) when the job begins (e) when job ends (a) when job is aborted (error)\n",
    "#$ -t 1-n:step_size # specify range for iterations and step size. \n",
    "\n",
    "# load the job environment: #in this case we will be using R \n",
    ". /u/local/Modules/default/init/modules.sh\n",
    "module load R\n",
    "\n",
    "echo ${SGE_TASK_ID}\n",
    "\n",
    "# run julia code\n",
    "echo Running phylo_code for n = ${SGE_TASK_ID} #prints this quote to joblog.jobidnumber.\n",
    "\n",
    "Rscript file_name.R ${parameters}  > unique/output/path #runs the array job, calls file_name script with any parameters specified. \n",
    "\n",
    "```"
   ]
  },
  {
   "cell_type": "code",
   "execution_count": null,
   "id": "e894a8ae",
   "metadata": {},
   "outputs": [],
   "source": []
  }
 ],
 "metadata": {
  "kernelspec": {
   "display_name": "Python 3 (ipykernel)",
   "language": "python",
   "name": "python3"
  },
  "language_info": {
   "codemirror_mode": {
    "name": "ipython",
    "version": 3
   },
   "file_extension": ".py",
   "mimetype": "text/x-python",
   "name": "python",
   "nbconvert_exporter": "python",
   "pygments_lexer": "ipython3",
   "version": "3.10.5"
  }
 },
 "nbformat": 4,
 "nbformat_minor": 5
}
