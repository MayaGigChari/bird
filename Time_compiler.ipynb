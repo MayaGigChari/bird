{
 "cells": [
  {
   "cell_type": "code",
   "execution_count": null,
   "id": "98ced555",
   "metadata": {},
   "outputs": [],
   "source": []
  },
  {
   "cell_type": "code",
   "execution_count": 11,
   "id": "25fac922",
   "metadata": {},
   "outputs": [
    {
     "ename": "IndentationError",
     "evalue": "expected an indented block after function definition on line 10 (3528476406.py, line 13)",
     "output_type": "error",
     "traceback": [
      "\u001b[0;36m  Input \u001b[0;32mIn [11]\u001b[0;36m\u001b[0m\n\u001b[0;31m    def computemin(dataset):\u001b[0m\n\u001b[0m    ^\u001b[0m\n\u001b[0;31mIndentationError\u001b[0m\u001b[0;31m:\u001b[0m expected an indented block after function definition on line 10\n"
     ]
    }
   ],
   "source": [
    "#dummy script to take folder of times and return a max and min time. \n",
    "\n",
    "#load data\n",
    "\n",
    "#for the purposes of simplicity I just downloaded the data directly on my desktop. But it's on github so should be able to get from there. \n",
    "\n",
    "\n",
    "#data = [] #this will be an array of dataframes (maybe not best practice) that I will populate \n",
    "\n",
    "#def retrievedata(n, joblog_id):\n",
    "    #TODO\n",
    "\n",
    "#def computemin(dataset): \n",
    "    #TODO\n",
    "    \n",
    "#def computemax(dataset): \n",
    "    #TODO\n",
    "\n",
    "\n",
    "    "
   ]
  },
  {
   "cell_type": "code",
   "execution_count": 6,
   "id": "8c040138",
   "metadata": {},
   "outputs": [
    {
     "name": "stdout",
     "output_type": "stream",
     "text": [
      "              x\n",
      "0  1 \"17:36:34\"\n",
      "1  2 \"17:37:09\"\n"
     ]
    }
   ],
   "source": [
    "import pandas as pd\n",
    "url = (r'https://raw.githubusercontent.com/MayaGigChari/bird/main/4821958_times/1.txt')\n",
    "data_csv = pd.read_csv(url)"
   ]
  },
  {
   "cell_type": "code",
   "execution_count": 18,
   "id": "bb899cab",
   "metadata": {},
   "outputs": [],
   "source": [
    "data_csv = data_csv.to_numpy()"
   ]
  },
  {
   "cell_type": "code",
   "execution_count": 19,
   "id": "e5400ae0",
   "metadata": {},
   "outputs": [
    {
     "name": "stdout",
     "output_type": "stream",
     "text": [
      "[['1 \"17:36:34\"']\n",
      " ['2 \"17:37:09\"']]\n"
     ]
    }
   ],
   "source": [
    "print(data_csv)"
   ]
  },
  {
   "cell_type": "code",
   "execution_count": 24,
   "id": "1a6c493f",
   "metadata": {},
   "outputs": [
    {
     "name": "stdout",
     "output_type": "stream",
     "text": [
      "1 \"17:36:34\"\n"
     ]
    }
   ],
   "source": [
    "print(data_csv[0,0])"
   ]
  },
  {
   "cell_type": "code",
   "execution_count": null,
   "id": "ff622afc",
   "metadata": {},
   "outputs": [],
   "source": []
  }
 ],
 "metadata": {
  "kernelspec": {
   "display_name": "Python 3 (ipykernel)",
   "language": "python",
   "name": "python3"
  },
  "language_info": {
   "codemirror_mode": {
    "name": "ipython",
    "version": 3
   },
   "file_extension": ".py",
   "mimetype": "text/x-python",
   "name": "python",
   "nbconvert_exporter": "python",
   "pygments_lexer": "ipython3",
   "version": "3.10.5"
  }
 },
 "nbformat": 4,
 "nbformat_minor": 5
}
