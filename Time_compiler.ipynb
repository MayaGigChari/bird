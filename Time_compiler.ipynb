{
 "cells": [
  {
   "cell_type": "code",
   "execution_count": 12,
   "id": "98ced555",
   "metadata": {},
   "outputs": [],
   "source": [
    "import pandas as pd\n",
    "import os\n",
    "import string"
   ]
  },
  {
   "cell_type": "code",
   "execution_count": 13,
   "id": "0bf73362",
   "metadata": {},
   "outputs": [
    {
     "name": "stdout",
     "output_type": "stream",
     "text": [
      "/Users/mayachari/Desktop/bird\n"
     ]
    }
   ],
   "source": [
    "cwd = os.getcwd()\n",
    "print(cwd)"
   ]
  },
  {
   "cell_type": "code",
   "execution_count": 85,
   "id": "25fac922",
   "metadata": {},
   "outputs": [],
   "source": [
    "#dummy script to take folder of times and return a max and min time. \n",
    "\n",
    "#retrievedata loads data given a joblogid and job size and returns an array of all times. \n",
    "#returns also the min and max times and difference\n",
    "def retrievedata(joblog_id, n):\n",
    "    cwd = os.getcwd()\n",
    "    array_times_tot = []\n",
    "    for i in range(1,n+1):\n",
    "        target_file = \"/\"+ str(joblog_id) +\"_times/\"+ str(i) + \"time.csv\"\n",
    "        target_dif = cwd + target_file\n",
    "        target_data = pd.read_csv(target_dif)\n",
    "        target_data.drop('Unnamed: 0', inplace=True, axis=1)\n",
    "        array_times_tot.append(target_data)\n",
    "        \n",
    "    #array_times_tot.drop(\"\")\n",
    "    array_times_tot = pd.concat(array_times_tot)\n",
    "    array_times_tot.drop(\"point\", inplace = True, axis = 1)\n",
    "    array_times_tot['time'] = pd.to_timedelta(array_times_tot['time'])\n",
    "    array_times_tot = array_times_tot.sort_values('time')\n",
    "    \n",
    "    min_t = min(array_times_tot[\"time\"])\n",
    "    max_t = max(array_times_tot[\"time\"])\n",
    "    return(array_times_tot, min_t, max_t, max_t-min_t )\n",
    "    #return(array_times_tot)\n",
    "#def computemin(dataset): \n",
    "    #TODO\n",
    "    \n",
    "#def computemax(dataset): \n",
    "    #TODO\n",
    "\n",
    "\n",
    "    "
   ]
  },
  {
   "cell_type": "code",
   "execution_count": 86,
   "id": "c0246b10",
   "metadata": {},
   "outputs": [
    {
     "name": "stdout",
     "output_type": "stream",
     "text": [
      "(             time\n",
      "0 0 days 23:35:54\n",
      "0 0 days 23:35:55\n",
      "0 0 days 23:35:56\n",
      "0 0 days 23:35:56\n",
      "0 0 days 23:35:56\n",
      "1 0 days 23:36:30\n",
      "1 0 days 23:36:32\n",
      "1 0 days 23:36:36\n",
      "1 0 days 23:36:37\n",
      "1 0 days 23:36:37, Timedelta('0 days 23:35:54'), Timedelta('0 days 23:36:37'), Timedelta('0 days 00:00:43'))\n"
     ]
    }
   ],
   "source": [
    "#touse: joblog_id = 4826326_times\n",
    "\n",
    "a = retrievedata(4826326,5)\n",
    "print(a)"
   ]
  },
  {
   "cell_type": "code",
   "execution_count": 3,
   "id": "8c040138",
   "metadata": {},
   "outputs": [],
   "source": [
    "import pandas as pd\n",
    "\n",
    "#todo: loop through and read all data. Need to resolve error to do this. \n",
    "\n",
    "#url = (r'https://raw.githubusercontent.com/MayaGigChari/bird/main/4821958_times/1.csv')\n",
    "#data_csv = pd.read_csv(url)\n",
    "\n",
    "#below is the basic concept for doing this. need to make it iterative. "
   ]
  },
  {
   "cell_type": "code",
   "execution_count": null,
   "id": "bb899cab",
   "metadata": {},
   "outputs": [],
   "source": [
    "data_csv = data_csv.to_numpy()"
   ]
  },
  {
   "cell_type": "code",
   "execution_count": 14,
   "id": "e5400ae0",
   "metadata": {},
   "outputs": [
    {
     "name": "stdout",
     "output_type": "stream",
     "text": [
      "   Unnamed: 0      time  point\n",
      "0           1  23:35:54      1\n",
      "1           2  23:36:30      2\n"
     ]
    },
    {
     "data": {
      "text/plain": [
       "['Unnamed: 0', 'time', 'point']"
      ]
     },
     "execution_count": 14,
     "metadata": {},
     "output_type": "execute_result"
    }
   ],
   "source": [
    "time1 = pd.read_csv(\"1time.csv\")\n",
    "print(time1)\n",
    "list(time1.columns)\n"
   ]
  },
  {
   "cell_type": "code",
   "execution_count": 19,
   "id": "1a6c493f",
   "metadata": {},
   "outputs": [],
   "source": [
    "time1.drop('Unnamed: 0', inplace=True, axis=1)\n",
    "print(time1)"
   ]
  },
  {
   "cell_type": "code",
   "execution_count": 21,
   "id": "9e8ad837",
   "metadata": {},
   "outputs": [],
   "source": [
    "time2 = pd.read_csv(\"2time.csv\")\n",
    "time2.drop('Unnamed: 0', inplace=True, axis=1)"
   ]
  },
  {
   "cell_type": "code",
   "execution_count": 27,
   "id": "ff622afc",
   "metadata": {},
   "outputs": [],
   "source": [
    "frames = [time1, time2]\n",
    "comb = pd.concat(frames)"
   ]
  },
  {
   "cell_type": "code",
   "execution_count": 28,
   "id": "289ec6e5",
   "metadata": {},
   "outputs": [
    {
     "data": {
      "text/html": [
       "<div>\n",
       "<style scoped>\n",
       "    .dataframe tbody tr th:only-of-type {\n",
       "        vertical-align: middle;\n",
       "    }\n",
       "\n",
       "    .dataframe tbody tr th {\n",
       "        vertical-align: top;\n",
       "    }\n",
       "\n",
       "    .dataframe thead th {\n",
       "        text-align: right;\n",
       "    }\n",
       "</style>\n",
       "<table border=\"1\" class=\"dataframe\">\n",
       "  <thead>\n",
       "    <tr style=\"text-align: right;\">\n",
       "      <th></th>\n",
       "      <th>time</th>\n",
       "      <th>point</th>\n",
       "    </tr>\n",
       "  </thead>\n",
       "  <tbody>\n",
       "    <tr>\n",
       "      <th>0</th>\n",
       "      <td>23:35:54</td>\n",
       "      <td>1</td>\n",
       "    </tr>\n",
       "    <tr>\n",
       "      <th>1</th>\n",
       "      <td>23:36:30</td>\n",
       "      <td>2</td>\n",
       "    </tr>\n",
       "    <tr>\n",
       "      <th>0</th>\n",
       "      <td>23:35:55</td>\n",
       "      <td>1</td>\n",
       "    </tr>\n",
       "    <tr>\n",
       "      <th>1</th>\n",
       "      <td>23:36:32</td>\n",
       "      <td>2</td>\n",
       "    </tr>\n",
       "  </tbody>\n",
       "</table>\n",
       "</div>"
      ],
      "text/plain": [
       "       time  point\n",
       "0  23:35:54      1\n",
       "1  23:36:30      2\n",
       "0  23:35:55      1\n",
       "1  23:36:32      2"
      ]
     },
     "execution_count": 28,
     "metadata": {},
     "output_type": "execute_result"
    }
   ],
   "source": [
    "comb"
   ]
  },
  {
   "cell_type": "code",
   "execution_count": 29,
   "id": "029d85cf",
   "metadata": {},
   "outputs": [],
   "source": [
    "comb['time'] = pd.to_timedelta(comb['time'])\n",
    "comb = comb.sort_values('time')"
   ]
  },
  {
   "cell_type": "code",
   "execution_count": 30,
   "id": "9ad18fd9",
   "metadata": {},
   "outputs": [
    {
     "data": {
      "text/html": [
       "<div>\n",
       "<style scoped>\n",
       "    .dataframe tbody tr th:only-of-type {\n",
       "        vertical-align: middle;\n",
       "    }\n",
       "\n",
       "    .dataframe tbody tr th {\n",
       "        vertical-align: top;\n",
       "    }\n",
       "\n",
       "    .dataframe thead th {\n",
       "        text-align: right;\n",
       "    }\n",
       "</style>\n",
       "<table border=\"1\" class=\"dataframe\">\n",
       "  <thead>\n",
       "    <tr style=\"text-align: right;\">\n",
       "      <th></th>\n",
       "      <th>time</th>\n",
       "      <th>point</th>\n",
       "    </tr>\n",
       "  </thead>\n",
       "  <tbody>\n",
       "    <tr>\n",
       "      <th>0</th>\n",
       "      <td>0 days 23:35:54</td>\n",
       "      <td>1</td>\n",
       "    </tr>\n",
       "    <tr>\n",
       "      <th>0</th>\n",
       "      <td>0 days 23:35:55</td>\n",
       "      <td>1</td>\n",
       "    </tr>\n",
       "    <tr>\n",
       "      <th>1</th>\n",
       "      <td>0 days 23:36:30</td>\n",
       "      <td>2</td>\n",
       "    </tr>\n",
       "    <tr>\n",
       "      <th>1</th>\n",
       "      <td>0 days 23:36:32</td>\n",
       "      <td>2</td>\n",
       "    </tr>\n",
       "  </tbody>\n",
       "</table>\n",
       "</div>"
      ],
      "text/plain": [
       "             time  point\n",
       "0 0 days 23:35:54      1\n",
       "0 0 days 23:35:55      1\n",
       "1 0 days 23:36:30      2\n",
       "1 0 days 23:36:32      2"
      ]
     },
     "execution_count": 30,
     "metadata": {},
     "output_type": "execute_result"
    }
   ],
   "source": [
    "comb"
   ]
  },
  {
   "cell_type": "code",
   "execution_count": 31,
   "id": "01e18c07",
   "metadata": {},
   "outputs": [
    {
     "data": {
      "text/plain": [
       "Timedelta('0 days 23:36:32')"
      ]
     },
     "execution_count": 31,
     "metadata": {},
     "output_type": "execute_result"
    }
   ],
   "source": [
    "max(comb['time'])"
   ]
  },
  {
   "cell_type": "code",
   "execution_count": 32,
   "id": "c45179fa",
   "metadata": {},
   "outputs": [
    {
     "data": {
      "text/plain": [
       "Timedelta('0 days 23:35:54')"
      ]
     },
     "execution_count": 32,
     "metadata": {},
     "output_type": "execute_result"
    }
   ],
   "source": [
    "min(comb['time'])"
   ]
  },
  {
   "cell_type": "code",
   "execution_count": 33,
   "id": "10f76687",
   "metadata": {},
   "outputs": [
    {
     "data": {
      "text/plain": [
       "Timedelta('0 days 00:00:38')"
      ]
     },
     "execution_count": 33,
     "metadata": {},
     "output_type": "execute_result"
    }
   ],
   "source": [
    "max(comb['time'])-min(comb['time'])"
   ]
  },
  {
   "cell_type": "code",
   "execution_count": null,
   "id": "7f1fdc75",
   "metadata": {},
   "outputs": [],
   "source": [
    "#here I can get the difference. "
   ]
  }
 ],
 "metadata": {
  "kernelspec": {
   "display_name": "Python 3 (ipykernel)",
   "language": "python",
   "name": "python3"
  },
  "language_info": {
   "codemirror_mode": {
    "name": "ipython",
    "version": 3
   },
   "file_extension": ".py",
   "mimetype": "text/x-python",
   "name": "python",
   "nbconvert_exporter": "python",
   "pygments_lexer": "ipython3",
   "version": "3.10.5"
  }
 },
 "nbformat": 4,
 "nbformat_minor": 5
}
