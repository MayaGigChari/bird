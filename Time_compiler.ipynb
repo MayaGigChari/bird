{
 "cells": [
  {
   "cell_type": "code",
   "execution_count": 6,
   "id": "98ced555",
   "metadata": {},
   "outputs": [],
   "source": [
    "import pandas as pd"
   ]
  },
  {
   "cell_type": "code",
   "execution_count": 11,
   "id": "25fac922",
   "metadata": {},
   "outputs": [
    {
     "ename": "IndentationError",
     "evalue": "expected an indented block after function definition on line 10 (3528476406.py, line 13)",
     "output_type": "error",
     "traceback": [
      "\u001b[0;36m  Input \u001b[0;32mIn [11]\u001b[0;36m\u001b[0m\n\u001b[0;31m    def computemin(dataset):\u001b[0m\n\u001b[0m    ^\u001b[0m\n\u001b[0;31mIndentationError\u001b[0m\u001b[0;31m:\u001b[0m expected an indented block after function definition on line 10\n"
     ]
    }
   ],
   "source": [
    "#dummy script to take folder of times and return a max and min time. \n",
    "\n",
    "#load data\n",
    "\n",
    "#for the purposes of simplicity I just downloaded the data directly on my desktop. But it's on github so should be able to get from there. \n",
    "\n",
    "\n",
    "#data = [] #this will be an array of dataframes (maybe not best practice) that I will populate \n",
    "\n",
    "#def retrievedata(n, joblog_id):\n",
    "    #TODO\n",
    "\n",
    "#def computemin(dataset): \n",
    "    #TODO\n",
    "    \n",
    "#def computemax(dataset): \n",
    "    #TODO\n",
    "\n",
    "\n",
    "    "
   ]
  },
  {
   "cell_type": "code",
   "execution_count": 3,
   "id": "8c040138",
   "metadata": {},
   "outputs": [],
   "source": [
    "import pandas as pd\n",
    "\n",
    "#todo: loop through and read all data. Need to resolve error to do this. \n",
    "\n",
    "#url = (r'https://raw.githubusercontent.com/MayaGigChari/bird/main/4821958_times/1.csv')\n",
    "#data_csv = pd.read_csv(url)\n",
    "\n",
    "#below is the basic concept for doing this. need to make it iterative. "
   ]
  },
  {
   "cell_type": "code",
   "execution_count": null,
   "id": "bb899cab",
   "metadata": {},
   "outputs": [],
   "source": [
    "data_csv = data_csv.to_numpy()"
   ]
  },
  {
   "cell_type": "code",
   "execution_count": 14,
   "id": "e5400ae0",
   "metadata": {},
   "outputs": [
    {
     "name": "stdout",
     "output_type": "stream",
     "text": [
      "   Unnamed: 0      time  point\n",
      "0           1  23:35:54      1\n",
      "1           2  23:36:30      2\n"
     ]
    },
    {
     "data": {
      "text/plain": [
       "['Unnamed: 0', 'time', 'point']"
      ]
     },
     "execution_count": 14,
     "metadata": {},
     "output_type": "execute_result"
    }
   ],
   "source": [
    "time1 = pd.read_csv(\"1time.csv\")\n",
    "print(time1)\n",
    "list(time1.columns)\n"
   ]
  },
  {
   "cell_type": "code",
   "execution_count": 19,
   "id": "1a6c493f",
   "metadata": {},
   "outputs": [],
   "source": [
    "time1.drop('Unnamed: 0', inplace=True, axis=1)\n",
    "print(time1)"
   ]
  },
  {
   "cell_type": "code",
   "execution_count": 21,
   "id": "9e8ad837",
   "metadata": {},
   "outputs": [],
   "source": [
    "time2 = pd.read_csv(\"2time.csv\")\n",
    "time2.drop('Unnamed: 0', inplace=True, axis=1)"
   ]
  },
  {
   "cell_type": "code",
   "execution_count": 27,
   "id": "ff622afc",
   "metadata": {},
   "outputs": [],
   "source": [
    "frames = [time1, time2]\n",
    "comb = pd.concat(frames)"
   ]
  },
  {
   "cell_type": "code",
   "execution_count": 28,
   "id": "289ec6e5",
   "metadata": {},
   "outputs": [
    {
     "data": {
      "text/html": [
       "<div>\n",
       "<style scoped>\n",
       "    .dataframe tbody tr th:only-of-type {\n",
       "        vertical-align: middle;\n",
       "    }\n",
       "\n",
       "    .dataframe tbody tr th {\n",
       "        vertical-align: top;\n",
       "    }\n",
       "\n",
       "    .dataframe thead th {\n",
       "        text-align: right;\n",
       "    }\n",
       "</style>\n",
       "<table border=\"1\" class=\"dataframe\">\n",
       "  <thead>\n",
       "    <tr style=\"text-align: right;\">\n",
       "      <th></th>\n",
       "      <th>time</th>\n",
       "      <th>point</th>\n",
       "    </tr>\n",
       "  </thead>\n",
       "  <tbody>\n",
       "    <tr>\n",
       "      <th>0</th>\n",
       "      <td>23:35:54</td>\n",
       "      <td>1</td>\n",
       "    </tr>\n",
       "    <tr>\n",
       "      <th>1</th>\n",
       "      <td>23:36:30</td>\n",
       "      <td>2</td>\n",
       "    </tr>\n",
       "    <tr>\n",
       "      <th>0</th>\n",
       "      <td>23:35:55</td>\n",
       "      <td>1</td>\n",
       "    </tr>\n",
       "    <tr>\n",
       "      <th>1</th>\n",
       "      <td>23:36:32</td>\n",
       "      <td>2</td>\n",
       "    </tr>\n",
       "  </tbody>\n",
       "</table>\n",
       "</div>"
      ],
      "text/plain": [
       "       time  point\n",
       "0  23:35:54      1\n",
       "1  23:36:30      2\n",
       "0  23:35:55      1\n",
       "1  23:36:32      2"
      ]
     },
     "execution_count": 28,
     "metadata": {},
     "output_type": "execute_result"
    }
   ],
   "source": [
    "comb"
   ]
  },
  {
   "cell_type": "code",
   "execution_count": 29,
   "id": "029d85cf",
   "metadata": {},
   "outputs": [],
   "source": [
    "comb['time'] = pd.to_timedelta(comb['time'])\n",
    "comb = comb.sort_values('time')"
   ]
  },
  {
   "cell_type": "code",
   "execution_count": 30,
   "id": "9ad18fd9",
   "metadata": {},
   "outputs": [
    {
     "data": {
      "text/html": [
       "<div>\n",
       "<style scoped>\n",
       "    .dataframe tbody tr th:only-of-type {\n",
       "        vertical-align: middle;\n",
       "    }\n",
       "\n",
       "    .dataframe tbody tr th {\n",
       "        vertical-align: top;\n",
       "    }\n",
       "\n",
       "    .dataframe thead th {\n",
       "        text-align: right;\n",
       "    }\n",
       "</style>\n",
       "<table border=\"1\" class=\"dataframe\">\n",
       "  <thead>\n",
       "    <tr style=\"text-align: right;\">\n",
       "      <th></th>\n",
       "      <th>time</th>\n",
       "      <th>point</th>\n",
       "    </tr>\n",
       "  </thead>\n",
       "  <tbody>\n",
       "    <tr>\n",
       "      <th>0</th>\n",
       "      <td>0 days 23:35:54</td>\n",
       "      <td>1</td>\n",
       "    </tr>\n",
       "    <tr>\n",
       "      <th>0</th>\n",
       "      <td>0 days 23:35:55</td>\n",
       "      <td>1</td>\n",
       "    </tr>\n",
       "    <tr>\n",
       "      <th>1</th>\n",
       "      <td>0 days 23:36:30</td>\n",
       "      <td>2</td>\n",
       "    </tr>\n",
       "    <tr>\n",
       "      <th>1</th>\n",
       "      <td>0 days 23:36:32</td>\n",
       "      <td>2</td>\n",
       "    </tr>\n",
       "  </tbody>\n",
       "</table>\n",
       "</div>"
      ],
      "text/plain": [
       "             time  point\n",
       "0 0 days 23:35:54      1\n",
       "0 0 days 23:35:55      1\n",
       "1 0 days 23:36:30      2\n",
       "1 0 days 23:36:32      2"
      ]
     },
     "execution_count": 30,
     "metadata": {},
     "output_type": "execute_result"
    }
   ],
   "source": [
    "comb"
   ]
  },
  {
   "cell_type": "code",
   "execution_count": 31,
   "id": "01e18c07",
   "metadata": {},
   "outputs": [
    {
     "data": {
      "text/plain": [
       "Timedelta('0 days 23:36:32')"
      ]
     },
     "execution_count": 31,
     "metadata": {},
     "output_type": "execute_result"
    }
   ],
   "source": [
    "max(comb['time'])"
   ]
  },
  {
   "cell_type": "code",
   "execution_count": 32,
   "id": "c45179fa",
   "metadata": {},
   "outputs": [
    {
     "data": {
      "text/plain": [
       "Timedelta('0 days 23:35:54')"
      ]
     },
     "execution_count": 32,
     "metadata": {},
     "output_type": "execute_result"
    }
   ],
   "source": [
    "min(comb['time'])"
   ]
  },
  {
   "cell_type": "code",
   "execution_count": 33,
   "id": "10f76687",
   "metadata": {},
   "outputs": [
    {
     "data": {
      "text/plain": [
       "Timedelta('0 days 00:00:38')"
      ]
     },
     "execution_count": 33,
     "metadata": {},
     "output_type": "execute_result"
    }
   ],
   "source": [
    "max(comb['time'])-min(comb['time'])"
   ]
  },
  {
   "cell_type": "code",
   "execution_count": null,
   "id": "7f1fdc75",
   "metadata": {},
   "outputs": [],
   "source": [
    "#here I can get the difference. "
   ]
  }
 ],
 "metadata": {
  "kernelspec": {
   "display_name": "Python 3 (ipykernel)",
   "language": "python",
   "name": "python3"
  },
  "language_info": {
   "codemirror_mode": {
    "name": "ipython",
    "version": 3
   },
   "file_extension": ".py",
   "mimetype": "text/x-python",
   "name": "python",
   "nbconvert_exporter": "python",
   "pygments_lexer": "ipython3",
   "version": "3.10.5"
  }
 },
 "nbformat": 4,
 "nbformat_minor": 5
}
